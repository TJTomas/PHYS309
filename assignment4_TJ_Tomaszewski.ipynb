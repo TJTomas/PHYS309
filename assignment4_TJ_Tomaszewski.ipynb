{
 "cells": [
  {
   "cell_type": "markdown",
   "id": "33885243",
   "metadata": {},
   "source": [
    "### Bohr models of ions\n",
    "\n",
    "The Bohr model works for atoms with only one electron. Adding electrons would require accounting for their mutual Coulomb forces, which would depend on the electrons' locations in their orbits. However, there are ions that have only one electron, for which a small modification to the Bohr model can predict their energy levels.\n",
    "\n",
    "Read the notebook <tt>Bohr_model_extensions.ipynb</tt>, which is on the class GitHub page. You will be using Equation 1 to compare the photon energy that correspond to energy level transitions in hydrogen, singly-ionized helium, and doubly-ionized lithium.\n",
    "\n",
    "Note: you are responsible for importing the packages you need and making sure your axis labels are large enough to be readable.\n",
    "\n",
    "<ol>\n",
    "    <li>Write a function that finds the photon <em>energy</em> in eV (calculate it from the wavelength predicted by the Rydberg equation) that moves an electron between levels $n$ and $n+1$. The independent variables of your function should be $Z$ (atomic number) and $n$. Do not hand-code any constants: use the pre-programmed values in <tt>scipy</tt>.</li>\n",
    "</ol>"
   ]
  },
  {
   "cell_type": "code",
   "execution_count": 16,
   "id": "d9969682",
   "metadata": {
    "tags": []
   },
   "outputs": [
    {
     "name": "stdout",
     "output_type": "stream",
     "text": [
      "10.204269842245676\n"
     ]
    }
   ],
   "source": [
    "# Your code here\n",
    "import numpy as np\n",
    "import matplotlib.pyplot as plt\n",
    "import matplotlib.ticker as ticker\n",
    "from scipy import constants\n",
    "c = constants.c\n",
    "\n",
    "# Function to calculate wavelength that corresponds to a transition between energy levels\n",
    "def Rydburg_to_ev(Z, n): \n",
    "    lamb = ((1 / (Z**2 * constants.Rydberg * (1/(n**2) - 1/((n+1)**2))))) # units: EV\n",
    "    E = c*constants.h / lamb\n",
    "    return E/constants.e\n",
    "\n",
    "print(Rydburg_to_ev(1,1))"
   ]
  },
  {
   "cell_type": "markdown",
   "id": "3eb29aa5",
   "metadata": {},
   "source": [
    "<ol start = 2>\n",
    "    <li>Use the python function of your choice to create an integer <em>array</em> (not list) of values $n = 1, 2, \\ldots, 10$. Do not simply hard-code in all the numbers by hand. Create a second array (not list) of atomic numbers $Z = 1, 2, 3$, again using a python function.</li>\n",
    "</ol>"
   ]
  },
  {
   "cell_type": "code",
   "execution_count": 17,
   "id": "105af0f4",
   "metadata": {
    "tags": []
   },
   "outputs": [],
   "source": [
    "# Your code here\n",
    "n = np.linspace(1, 10, num=10)\n",
    "Z = np.linspace(1, 3, num=3)\n"
   ]
  },
  {
   "cell_type": "markdown",
   "id": "fdc267f4",
   "metadata": {},
   "source": [
    "<ol start=3>\n",
    "    <li>For each combination of $Z$ and $n$, calculate the energy of light required to move from level $n$ to $n+1$. Store the results in an array with 3 rows and 10 columns. You may find the meshgrid command helpful.</li>\n",
    "</ol>"
   ]
  },
  {
   "cell_type": "code",
   "execution_count": 37,
   "id": "fb38e7e0",
   "metadata": {
    "tags": []
   },
   "outputs": [
    {
     "name": "stdout",
     "output_type": "stream",
     "text": [
      "[[1.02042698e+01 4.08170794e+01 9.18384286e+01]\n",
      " [1.88967960e+00 7.55871840e+00 1.70071164e+01]\n",
      " [6.61387860e-01 2.64555144e+00 5.95249074e+00]\n",
      " [3.06128095e-01 1.22451238e+00 2.75515286e+00]\n",
      " [1.66291805e-01 6.65167219e-01 1.49662624e+00]\n",
      " [1.00268713e-01 4.01074854e-01 9.02418421e-01]\n",
      " [6.50782515e-02 2.60313006e-01 5.85704264e-01]\n",
      " [4.46174350e-02 1.78469740e-01 4.01556915e-01]\n",
      " [3.19145888e-02 1.27658355e-01 2.87231299e-01]\n",
      " [2.36131864e-02 9.44527456e-02 2.12518678e-01]]\n"
     ]
    }
   ],
   "source": [
    "Zv, nv = np.meshgrid(Z, n)\n",
    "energies = Rydburg_to_ev(Zv, nv)\n",
    "print(energies)"
   ]
  },
  {
   "cell_type": "markdown",
   "id": "4ce0665f",
   "metadata": {},
   "source": [
    "<ol start=4>\n",
    "    <li>Now you are going to make a color-coded plot. With $n$ on the x-axis and $z$ on the y-axis, add a circle to your plot at each $(n,z)$ ordered pair with the color determined by the energy calculated in question 3. Make sure your plot has a colorbar to show the energy scale, and put units on the colorbar. x and y axes should also be labeled.</li>\n",
    "</ol>\n",
    "\n",
    "I am including an example plot showing arbitrary dependent variable $w$ on a color scale as a function of independent variables $u$ and $v$. None of these variables mean anything; this example is just to help you visualize what your plot should look like."
   ]
  },
  {
   "cell_type": "code",
   "execution_count": 42,
   "id": "4585afc3",
   "metadata": {
    "tags": []
   },
   "outputs": [
    {
     "data": {
      "image/png": "[encoded data removed]",
      "text/plain": [
       "<Figure size 600x600 with 2 Axes>"
      ]
     },
     "metadata": {},
     "output_type": "display_data"
    }
   ],
   "source": [
    "from mpl_toolkits.axes_grid1 import make_axes_locatable\n",
    "\n",
    "fig, ax = plt.subplots(1, 1, figsize=(6,6))\n",
    "plot1 = ax.scatter(nv, Zv, c=energies.flatten(), cmap='rainbow') # Look up how to make a color-coded scatter plot\n",
    "ax.set_aspect('equal')\n",
    "\n",
    "# Create a colorbar axis on the right side of ax. The width of cax will be 8%\n",
    "# of ax and the padding between cax and ax will be fixed at 0.1 inch.\n",
    "divider = make_axes_locatable(ax)\n",
    "cax = divider.append_axes(\"right\", size=\"8%\", pad=0.1)\n",
    "cbar = plt.colorbar(plot1, cax=cax)\n",
    "cbar.ax.tick_params(labelsize=12) \n",
    "cbar.set_label('Ev')"
   ]
  },
  {
   "cell_type": "markdown",
   "id": "ecf1d35d",
   "metadata": {},
   "source": [
    "Code that might help you make your plot is in the cell below. You are free to do something else if you prefer."
   ]
  },
  {
   "cell_type": "code",
   "execution_count": 41,
   "id": "d4c9baa3",
   "metadata": {
    "tags": []
   },
   "outputs": [
    {
     "data": {
      "text/plain": [
       "'\\nfrom mpl_toolkits.axes_grid1 import make_axes_locatable\\n\\nfig, ax = plt.subplots(1, 1, figsize=(6,6))\\nplot1 = ax.scatter(nv, Zv, ...) # Look up how to make a color-coded scatter plot\\nax.set_aspect(\\'equal\\')\\n\\n# Create a colorbar axis on the right side of ax. The width of cax will be 8%\\n# of ax and the padding between cax and ax will be fixed at 0.1 inch.\\ndivider = make_axes_locatable(ax)\\ncax = divider.append_axes(\"right\", size=\"8%\", pad=0.1)\\ncbar = plt.colorbar(plot1, cax=cax)\\ncbar.ax.tick_params(labelsize=12) \\ncbar.set_label(\\'...\\')\\n'"
      ]
     },
     "execution_count": 41,
     "metadata": {},
     "output_type": "execute_result"
    }
   ],
   "source": [
    "'''\n",
    "from mpl_toolkits.axes_grid1 import make_axes_locatable\n",
    "\n",
    "fig, ax = plt.subplots(1, 1, figsize=(6,6))\n",
    "plot1 = ax.scatter(nv, Zv, ...) # Look up how to make a color-coded scatter plot\n",
    "ax.set_aspect('equal')\n",
    "\n",
    "# Create a colorbar axis on the right side of ax. The width of cax will be 8%\n",
    "# of ax and the padding between cax and ax will be fixed at 0.1 inch.\n",
    "divider = make_axes_locatable(ax)\n",
    "cax = divider.append_axes(\"right\", size=\"8%\", pad=0.1)\n",
    "cbar = plt.colorbar(plot1, cax=cax)\n",
    "cbar.ax.tick_params(labelsize=12) \n",
    "cbar.set_label('...')\n",
    "'''"
   ]
  },
  {
   "cell_type": "code",
   "execution_count": null,
   "id": "9ba6c58a-90e7-49a1-835f-3d64f009dee8",
   "metadata": {},
   "outputs": [],
   "source": []
  }
 ],
 "metadata": {
  "kernelspec": {
   "display_name": "Python 3 (ipykernel)",
   "language": "python",
   "name": "python3"
  },
  "language_info": {
   "codemirror_mode": {
    "name": "ipython",
    "version": 3
   },
   "file_extension": ".py",
   "mimetype": "text/x-python",
   "name": "python",
   "nbconvert_exporter": "python",
   "pygments_lexer": "ipython3",
   "version": "3.11.5"
  }
 },
 "nbformat": 4,
 "nbformat_minor": 5
}
